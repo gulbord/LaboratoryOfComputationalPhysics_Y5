{
 "cells": [
  {
   "cell_type": "markdown",
   "metadata": {},
   "source": [
    "1\\. Write a function that converts number representation, bin<->dec<->hex. (Clearly using the corresponding python built-in functions is not fair..)"
   ]
  },
  {
   "cell_type": "code",
   "execution_count": 9,
   "metadata": {},
   "outputs": [
    {
     "data": {
      "text/plain": [
       "'10101010100100'"
      ]
     },
     "execution_count": 9,
     "metadata": {},
     "output_type": "execute_result"
    }
   ],
   "source": [
    "def int_to_chr(x):\n",
    "    return chr(x + 48) if x < 10 else chr(x + 55)\n",
    "\n",
    "def chr_to_int(x):\n",
    "    return ord(x) - 48 if ord(x) < 65 else ord(x) - 55\n",
    "\n",
    "def convert(number, base_from, base_to):\n",
    "    # base-36 uses Z as biggest digit, for base-37 we run out of letters!\n",
    "    assert base_from < 37 and base_to < 37, \"Base too large!\"\n",
    "    # conversion from base=base_from to base=10\n",
    "    number = str(number).upper()\n",
    "    number_base_10 = 0\n",
    "    for digit in number:\n",
    "        digit = chr_to_int(digit)\n",
    "        assert digit < base_from, \"Found digit outside base!\"\n",
    "        number_base_10 = number_base_10 * base_from + digit\n",
    "    \n",
    "    # conversion from base=10 to base=base_to, by successive integer div\n",
    "    result = ''\n",
    "    while number_base_10:\n",
    "        result += int_to_chr(number_base_10 % base_to)\n",
    "        number_base_10 //= base_to\n",
    "    \n",
    "    # return remainders in reversed order\n",
    "    return result[::-1]\n",
    "\n",
    "convert(\"2aa4\", 16, 2)"
   ]
  },
  {
   "cell_type": "markdown",
   "metadata": {},
   "source": [
    "2\\. Write a function that converts a 32 bit word into a single precision floating point (i.e. interprets the various bits as sign, mantissa and exponent)"
   ]
  },
  {
   "cell_type": "code",
   "execution_count": 4,
   "metadata": {},
   "outputs": [
    {
     "data": {
      "text/plain": [
       "-4.232409764881595e-07"
      ]
     },
     "execution_count": 4,
     "metadata": {},
     "output_type": "execute_result"
    }
   ],
   "source": [
    "def sp_float(word):\n",
    "    assert len(word) == 32, f\"Not 32 bits! len(word) = {len(word)}\"\n",
    "\n",
    "    sign = word[:1]\n",
    "    exponent = word[1:9]\n",
    "    mantissa = word[9:]\n",
    "\n",
    "    base = 1\n",
    "    for idx, bit in enumerate(mantissa):\n",
    "        base += int(bit, 2) / 2**(idx + 1)\n",
    "\n",
    "    return (-1)**int(sign) * base * 2**(int(exponent, 2) - 127)\n",
    "\n",
    "sp_float('10110100111000110011100111001100')"
   ]
  },
  {
   "cell_type": "markdown",
   "metadata": {},
   "source": [
    "3\\. Write a program to determine the underflow and overflow limits (within a factor of 2) for python on your computer. \n",
    "\n",
    "**Tips**: define two variables inizialized to 1 and halve/double them enough time to exceed the under/over-flow limits  "
   ]
  },
  {
   "cell_type": "code",
   "execution_count": 34,
   "metadata": {},
   "outputs": [
    {
     "name": "stdout",
     "output_type": "stream",
     "text": [
      "Underflow limit = 5e-324\n",
      "Overflow limit = 179769313486231590772930519078902473361797697894230657273430081157732675805500963132708477322407536021120113879871393357658789768814416622492847430639474124377767893424865485276302219601246094119453082952085005768838150682342462881473913110540827237163350510684586298239947245938479716304835356329624224137216\n"
     ]
    }
   ],
   "source": [
    "import math as m\n",
    "\n",
    "a, b = 1, 0.5\n",
    "i = 0\n",
    "while (b < a):\n",
    "    a, b = b, b / 2\n",
    "    i += 1\n",
    "print(f\"Underflow limit = {pow(2, -i + 1)}\")\n",
    "\n",
    "c, d = 1, 2\n",
    "i = 0\n",
    "while (True):\n",
    "    try:\n",
    "        d / 2 > c\n",
    "    except:\n",
    "        break\n",
    "    c, d = d, d * 2\n",
    "    i += 1\n",
    "print(f\"Overflow limit = {pow(2, i)}\")"
   ]
  },
  {
   "cell_type": "markdown",
   "metadata": {},
   "source": [
    "4\\. Write a program to determine the machine precision\n",
    "\n",
    "**Tips**: define a new variable by adding a smaller and smaller value (proceeding similarly to prob. 2) to an original variable and check the point where the two are the same "
   ]
  },
  {
   "cell_type": "code",
   "execution_count": 54,
   "metadata": {},
   "outputs": [
    {
     "name": "stdout",
     "output_type": "stream",
     "text": [
      "Machine precision = 2^(-53) = 1.1102230246251565e-16\n"
     ]
    }
   ],
   "source": [
    "a, b = 1, 1.5\n",
    "n = 1\n",
    "while (a != b):\n",
    "    n += 1\n",
    "    a, b = b, b + 1 / pow(2, n)\n",
    "print(f\"Machine precision = 2^(-{n - 1}) = {1 / pow(2, n - 1)}\")"
   ]
  },
  {
   "cell_type": "markdown",
   "metadata": {},
   "source": [
    "5\\. Write a function that takes in input three parameters $a$, $b$ and $c$ and prints out the two solutions to the quadratic equation $ax^2+bx+c=0$ using the standard formula:\n",
    "$$\n",
    "x=\\frac{-b\\pm\\sqrt{b^2-4ac}}{2a}\n",
    "$$\n",
    "\n",
    "(a) use the program to compute the solution for $a=0.001$, $b=1000$ and $c=0.001$\n",
    "\n",
    "(b) re-express the standard solution formula by multiplying top and bottom by $-b\\mp\\sqrt{b^2-4ac}$ and again find the solution for $a=0.001$, $b=1000$ and $c=0.001$. How does it compare with what previously obtained? Why?\n",
    "\n",
    "(c) write a function that computes the roots of a quadratic equation accurately in all cases"
   ]
  },
  {
   "cell_type": "code",
   "execution_count": 76,
   "metadata": {},
   "outputs": [
    {
     "name": "stdout",
     "output_type": "stream",
     "text": [
      "Naïve function  --> (-1.00000761449337e-06, -999999.999999)\n",
      "Better function --> (-2.000000000002e-09, -2000.0211510250112)\n",
      "Best function   --> (-9.898979485566356, -0.10102051443364381)\n"
     ]
    }
   ],
   "source": [
    "import math as m\n",
    "\n",
    "def naive_quadratic(a, b, c):\n",
    "    x1 = -0.5 * b / a\n",
    "    x2 = 0.5 * m.sqrt(b**2 - 4 * a * c) / a\n",
    "    return x1 + x2, x1 - x2\n",
    "\n",
    "def better_quadratic(a, b, c):\n",
    "    pref = -4 * a * c\n",
    "    delta = m.sqrt(b**2 - 4 * a * c)\n",
    "    return pref / (b + delta), pref / (b - delta)\n",
    "\n",
    "# first, note that the product of the two roots is c / a\n",
    "def best_quadratic(a, b, c):\n",
    "    assert a != 0, \"This is not a quadratic equation! a is 0\"\n",
    "\n",
    "    # simple cases\n",
    "    if (b == 0):\n",
    "        assert c / a <= 0, \"No real solution\"\n",
    "        root = m.sqrt(-c / a)\n",
    "        return root, -root\n",
    "    if (c == 0):\n",
    "        return 0, -c / a\n",
    "\n",
    "    # normal case\n",
    "    try:\n",
    "        delta = m.sqrt(b**2 - 4 * a * c)\n",
    "    except:\n",
    "        print(\"No real solution!\")\n",
    "        return None\n",
    "    # avoid subtraction\n",
    "    if (b < 0):\n",
    "        root = 0.5 * (-b + delta) / a\n",
    "    else:\n",
    "        root = 0.5 * (-b - delta) / a\n",
    "\n",
    "    return root, c / (a * root)\n",
    "\n",
    "print(f\"Naïve function  --> {naive_quadratic(0.001, 1000, 0.001)}\")\n",
    "print(f\"Better function --> {better_quadratic(0.001, 1000, 0.001)}\")\n",
    "print(f\"Best function   --> {best_quadratic(0.001, 1000, 0.001)}\")\n"
   ]
  },
  {
   "cell_type": "markdown",
   "metadata": {},
   "source": [
    "6\\. Write a program that implements the function $f(x)=x(x−1)$\n",
    "\n",
    "(a) Calculate the derivative of the function at the point $x = 1$ using the derivative definition:\n",
    "\n",
    "$$\n",
    "\\frac{df}{dx} = \\lim_{\\delta\\to0} \\frac{f(x+\\delta)-f(x)}{\\delta}\n",
    "$$\n",
    "\n",
    "with $\\delta = 10^{−2}$. Calculate the true value of the same derivative analytically and compare with the answer your program gives. The two will not agree perfectly. Why not?\n",
    "\n",
    "(b) Repeat the calculation for $\\delta = 10^{−4}, 10^{−6}, 10^{−8}, 10^{−10}, 10^{−12}$ and $10^{−14}$. How does the accuracy scales with $\\delta$?"
   ]
  },
  {
   "cell_type": "markdown",
   "metadata": {},
   "source": [
    "7\\. Consider the integral of the semicircle of radius 1:\n",
    "$$\n",
    "I=\\int_{-1}^{1} \\sqrt{1-x^2} \\, dx\n",
    "$$\n",
    "which it's known to be $I=\\pi/2=1.57079632679...$.\n",
    "Alternatively we can use the Riemann definition of the integral:\n",
    "$$\n",
    "I=\\lim_{N\\to\\infty} \\sum_{k=1}^{N} h y_k \n",
    "$$\n",
    "\n",
    "with $h=2/N$ the width of each of the $N$ slices the domain is divided into and where\n",
    "$y_k$ is the value of the function at the $k-$th slice.\n",
    "\n",
    "(a) Write a programe to compute the integral with $N=100$. How does the result compares to the true value?\n",
    "\n",
    "(b) How much can $N$ be increased if the computation needs to be run in less than a second? What is the gain in running it for 1 minute? \n"
   ]
  },
  {
   "cell_type": "code",
   "execution_count": null,
   "metadata": {},
   "outputs": [],
   "source": []
  }
 ],
 "metadata": {
  "kernelspec": {
   "display_name": "Python 3.10.6 ('LCP')",
   "language": "python",
   "name": "python3"
  },
  "language_info": {
   "codemirror_mode": {
    "name": "ipython",
    "version": 3
   },
   "file_extension": ".py",
   "mimetype": "text/x-python",
   "name": "python",
   "nbconvert_exporter": "python",
   "pygments_lexer": "ipython3",
   "version": "3.10.6"
  },
  "vscode": {
   "interpreter": {
    "hash": "fdbb663ad9ba1b792610492e9c14cc4502c8785e473cf31bd41558f2f35aac4e"
   }
  }
 },
 "nbformat": 4,
 "nbformat_minor": 2
}
