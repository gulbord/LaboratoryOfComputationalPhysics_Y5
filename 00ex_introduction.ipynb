{
 "cells": [
  {
   "cell_type": "markdown",
   "metadata": {},
   "source": [
    "1. The MickeyMouse problem\n",
    "\n",
    "a) Write a program that prints the numbers from 1 to 100. But for multiples of 3 print `Mickey` instead of the corresponding number and for the multiples of 5 print `Mouse`. For numbers which are multiples of both three and five print `MickeyMouse`\n",
    "\n",
    "b) Put the result in a tuple and substitute `Mickey` with `Donald` and `Mouse` with `Duck`"
   ]
  },
  {
   "cell_type": "code",
   "execution_count": 55,
   "metadata": {},
   "outputs": [
    {
     "name": "stdout",
     "output_type": "stream",
     "text": [
      "1 2 Mickey 4 Mouse Mickey 7 8 Mickey Mouse 11 Mickey 13 14 MickeyMouse 16 17 Mickey 19 Mouse Mickey 22 23 Mickey Mouse 26 Mickey 28 29 MickeyMouse 31 32 Mickey 34 Mouse Mickey 37 38 Mickey Mouse 41 Mickey 43 44 MickeyMouse 46 47 Mickey 49 Mouse Mickey 52 53 Mickey Mouse 56 Mickey 58 59 MickeyMouse 61 62 Mickey 64 Mouse Mickey 67 68 Mickey Mouse 71 Mickey 73 74 MickeyMouse 76 77 Mickey 79 Mouse Mickey 82 83 Mickey Mouse 86 Mickey 88 89 MickeyMouse 91 92 Mickey 94 Mouse Mickey 97 98 Mickey Mouse\n",
      "\n",
      " (1, 2, 'Donald', 4, 'Duck', 'Donald', 7, 8, 'Donald', 'Duck', 11, 'Donald', 13, 14, 'DonaldDuck', 16, 17, 'Donald', 19, 'Duck', 'Donald', 22, 23, 'Donald', 'Duck', 26, 'Donald', 28, 29, 'DonaldDuck')\n"
     ]
    }
   ],
   "source": [
    "l = list(range(1, 101))\n",
    "for i in l:\n",
    "    if i % 3 == 0:\n",
    "        l[i-1] = \"Mickey%s\" % (\"Mouse\" if i % 5 == 0 else \"\")\n",
    "    elif i % 5 == 0:\n",
    "        l[i-1] = \"Mouse\"\n",
    "print(*l, sep=' ')\n",
    "\n",
    "for i in range(len(l)):\n",
    "    if l[i] == \"Mickey\":\n",
    "        l[i] = \"Donald\"\n",
    "    elif l[i] == \"MickeyMouse\":\n",
    "        l[i] = \"DonaldDuck\"\n",
    "    elif l[i] == \"Mouse\":\n",
    "        l[i] = \"Duck\"\n",
    "t = tuple(l)\n",
    "print('\\n', t[:30])"
   ]
  },
  {
   "cell_type": "markdown",
   "metadata": {},
   "source": [
    "2\\. The swap function\n",
    "\n",
    "Write a function that swap the values of two input variables x and y (whatever the type). Try to do that also without a temporary variable"
   ]
  },
  {
   "cell_type": "code",
   "execution_count": 58,
   "metadata": {},
   "outputs": [
    {
     "name": "stdout",
     "output_type": "stream",
     "text": [
      "5 3\n"
     ]
    }
   ],
   "source": [
    "def swap(x, y):\n",
    "    return y, x\n",
    "\n",
    "a, b = 3, 5\n",
    "a, b = swap(a, b)\n",
    "print(a, b)"
   ]
  },
  {
   "cell_type": "markdown",
   "metadata": {},
   "source": [
    "3\\. Computing the distance\n",
    "\n",
    "Write a function that calculates and returns the euclidean distance between two points *u* and *v*, where *u* and *v* are both 2-tuples *(x,y)*. For example, if *u=(3,0)* and *v=(0,4)*, the function should return 5"
   ]
  },
  {
   "cell_type": "code",
   "execution_count": 71,
   "metadata": {},
   "outputs": [
    {
     "data": {
      "text/plain": [
       "5.0"
      ]
     },
     "execution_count": 71,
     "metadata": {},
     "output_type": "execute_result"
    }
   ],
   "source": [
    "import math\n",
    "\n",
    "def dist(u, v=(0, 0)):\n",
    "    return math.sqrt((u[0] - v[0])**2 + (u[1] - v[1])**2)\n",
    "\n",
    "u = (3, 0)\n",
    "v = (0, 4)\n",
    "dist(u, v)"
   ]
  },
  {
   "cell_type": "markdown",
   "metadata": {},
   "source": [
    "4\\. Counting letters\n",
    "\n",
    "Write a program to calculate the number of times each character occurs in a given string *s*. Ignore differences in capitalization."
   ]
  },
  {
   "cell_type": "code",
   "execution_count": 90,
   "metadata": {},
   "outputs": [
    {
     "name": "stdout",
     "output_type": "stream",
     "text": [
      "   41\n",
      "e  22\n",
      "t  19\n",
      "r  17\n",
      "i  14\n",
      "o  13\n",
      "m  12\n",
      "n  10\n",
      "f  10\n",
      "h   9\n",
      "s   9\n",
      "u   9\n",
      "p   8\n",
      "a   7\n",
      "l   6\n",
      "b   5\n",
      ".   3\n",
      "c   3\n",
      "d   3\n",
      "w   2\n",
      "1   2\n",
      "0   2\n",
      "k   2\n",
      "y   2\n",
      "v   2\n",
      "g   1\n"
     ]
    }
   ],
   "source": [
    "s = \"Write a program that prints the numbers from 1 to 100. \\\n",
    "But for multiples of three print Mickey instead of the number and \\\n",
    "for the multiples of five print Mouse. For numbers which are \\\n",
    "multiples of both three and five print MickeyMouse.\"\n",
    "\n",
    "# create a dictionary\n",
    "freq = {}\n",
    "\n",
    "# ignore case\n",
    "for c in s.casefold():\n",
    "    # get, as a dictionary method, returns the value corresponding\n",
    "    # to the given key, or else a default value (in this case 0)\n",
    "    freq[c] = freq.get(c, 0) + 1\n",
    "\n",
    "# print characters from most to least frequent\n",
    "for i in sorted(freq, key=freq.get, reverse=True):\n",
    "    print(\"%c %3d\" % (i, freq[i]))\n"
   ]
  },
  {
   "cell_type": "markdown",
   "metadata": {},
   "source": [
    "5\\. Isolating the unique\n",
    "\n",
    "Write a function that determines and count the unique numbers in the list *l*"
   ]
  },
  {
   "cell_type": "code",
   "execution_count": 104,
   "metadata": {},
   "outputs": [
    {
     "name": "stdout",
     "output_type": "stream",
     "text": [
      "1 5 8 9 10 16 18 19 20 24 30 31 33 39 47 51 53 54 55 57 58 63 64 72 74 75 79 81 82 86 87 88 89 90 94 95 96 98 99 "
     ]
    }
   ],
   "source": [
    "l = [36, 45, 58, 3, 74, 96, 64, 45, 31, 10, 24, 19, 33, 86, 99, 18,\n",
    " 85, 63, 47, 56, 42, 70, 84, 88, 55, 20, 54, 8, 56, 51, 79, 81, 57,\n",
    " 1, 84, 84, 36, 66, 9, 89, 50, 42, 91, 50, 95, 90, 98, 39, 16, 82,\n",
    " 45, 30, 66, 70, 34, 85, 94, 5, 3, 36, 72, 91, 84, 34, 87, 75, 53]\n",
    "\n",
    "# by converting to set you get all the different values\n",
    "for unique in set(l):\n",
    "    if l.count(unique) == 1:\n",
    "        print(unique, end=' ')"
   ]
  },
  {
   "cell_type": "markdown",
   "metadata": {},
   "source": [
    "6\\. Combination of functions\n",
    "\n",
    "Write two functions - one that returns the square of a number, and one that returns the cube. Now write a third function that returns the number raised to the 6th power using the two previous functions."
   ]
  },
  {
   "cell_type": "markdown",
   "metadata": {},
   "source": [
    "7\\. Cubes\n",
    "\n",
    "Create a list of the cubes of x for x in *[0, 10]* using:\n",
    "\n",
    "a) a for loop\n",
    "\n",
    "b) a list comprehension"
   ]
  },
  {
   "cell_type": "markdown",
   "metadata": {},
   "source": [
    "8\\. Nested list comprehension\n",
    "\n",
    "A Pythagorean triple is an integer solution to the Pythagorean theorem $a^2+b^2=c^2$. The first Pythagorean triple is (3,4,5). Find and put in a tuple all unique Pythagorean triples for the positive integers a, b and c less than 100."
   ]
  },
  {
   "cell_type": "markdown",
   "metadata": {},
   "source": [
    "9\\. Normalization\n",
    "\n",
    "Write a function that takes a tuple of numbers and returns it with the entries normalized to one"
   ]
  },
  {
   "cell_type": "code",
   "execution_count": null,
   "metadata": {},
   "outputs": [],
   "source": []
  }
 ],
 "metadata": {
  "kernelspec": {
   "display_name": "Python 3.10.6 ('LCP')",
   "language": "python",
   "name": "python3"
  },
  "language_info": {
   "codemirror_mode": {
    "name": "ipython",
    "version": 3
   },
   "file_extension": ".py",
   "mimetype": "text/x-python",
   "name": "python",
   "nbconvert_exporter": "python",
   "pygments_lexer": "ipython3",
   "version": "3.10.6"
  },
  "vscode": {
   "interpreter": {
    "hash": "fdbb663ad9ba1b792610492e9c14cc4502c8785e473cf31bd41558f2f35aac4e"
   }
  }
 },
 "nbformat": 4,
 "nbformat_minor": 2
}
