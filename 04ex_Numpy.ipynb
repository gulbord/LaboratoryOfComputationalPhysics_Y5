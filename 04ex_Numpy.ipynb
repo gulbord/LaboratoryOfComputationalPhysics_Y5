{
 "cells": [
  {
   "cell_type": "markdown",
   "metadata": {},
   "source": [
    "### Numpy basics"
   ]
  },
  {
   "cell_type": "markdown",
   "metadata": {},
   "source": [
    "1\\. Find the row, column and overall means for the following matrix:\n",
    "\n",
    "```python\n",
    "m = np.arange(12).reshape((3,4))\n",
    "```"
   ]
  },
  {
   "cell_type": "code",
   "execution_count": 37,
   "metadata": {},
   "outputs": [],
   "source": [
    "import numpy as np\n",
    "import math as m\n",
    "import matplotlib.pyplot as plt\n",
    "import pandas as pd"
   ]
  },
  {
   "cell_type": "code",
   "execution_count": 2,
   "metadata": {},
   "outputs": [
    {
     "name": "stdout",
     "output_type": "stream",
     "text": [
      "m =\n",
      "[[ 0  1  2  3]\n",
      " [ 4  5  6  7]\n",
      " [ 8  9 10 11]]\n",
      "\n",
      "Column means: [4. 5. 6. 7.]\n",
      "Row means: [1.5 5.5 9.5]\n",
      "Overall mean: 5.5\n"
     ]
    }
   ],
   "source": [
    "m = np.arange(12).reshape((3, 4))\n",
    "print(f\"m =\\n{m}\\n\")\n",
    "print(f\"Column means: {m.mean(axis=0)}\")\n",
    "print(f\"Row means: {m.mean(axis=1)}\")\n",
    "print(f\"Overall mean: {m.mean()}\")"
   ]
  },
  {
   "cell_type": "markdown",
   "metadata": {},
   "source": [
    "2\\. Find the outer product of the following two vecotrs\n",
    "\n",
    "```python\n",
    "u = np.array([1,3,5,7])\n",
    "v = np.array([2,4,6,8])\n",
    "```\n",
    "\n",
    "Do this in the following ways:\n",
    "\n",
    "   * Using the function outer in numpy\n",
    "   * Using a nested for loop or list comprehension\n",
    "   * Using numpy broadcasting operations\n"
   ]
  },
  {
   "cell_type": "code",
   "execution_count": 3,
   "metadata": {},
   "outputs": [
    {
     "name": "stdout",
     "output_type": "stream",
     "text": [
      "With np.outer:\n",
      "[[ 2  3  6  8]\n",
      " [ 6  9 18 24]\n",
      " [10 15 30 40]\n",
      " [14 21 42 56]]\n",
      "\n",
      "With list comprehension:\n",
      "[[ 2  3  6  8]\n",
      " [ 6  9 18 24]\n",
      " [10 15 30 40]\n",
      " [14 21 42 56]]\n",
      "\n",
      "With broadcasting:\n",
      "[[ 2  3  6  8]\n",
      " [ 6  9 18 24]\n",
      " [10 15 30 40]\n",
      " [14 21 42 56]]\n"
     ]
    }
   ],
   "source": [
    "u = np.array([1, 3, 5, 7])\n",
    "v = np.array([2, 3, 6, 8])\n",
    "\n",
    "print(f\"With np.outer:\\n{np.outer(u, v)}\\n\")\n",
    "\n",
    "w_list = np.asarray([[u[i] * v[j] for j in range(len(v))]\n",
    "                     for i in range(len(u))])\n",
    "print(f\"With list comprehension:\\n{w_list}\\n\")\n",
    "\n",
    "w_bcast = u[:, np.newaxis] * v # transpose u and multiply\n",
    "print(f\"With broadcasting:\\n{w_bcast}\")"
   ]
  },
  {
   "cell_type": "markdown",
   "metadata": {},
   "source": [
    "3\\. Create a 10 by 6 matrix of random uniform numbers. Set all rows with any entry less than 0.1 to be zero\n",
    "\n",
    "Hint: Use the following numpy functions - np.random.random, np.any as well as Boolean indexing and the axis argument."
   ]
  },
  {
   "cell_type": "code",
   "execution_count": 4,
   "metadata": {},
   "outputs": [
    {
     "name": "stdout",
     "output_type": "stream",
     "text": [
      "[[0.         0.         0.         0.         0.         0.        ]\n",
      " [0.31173434 0.25226845 0.73520022 0.52143061 0.91080535 0.33602151]\n",
      " [0.41425355 0.48911623 0.92694636 0.43183553 0.25989356 0.84271042]\n",
      " [0.61297987 0.93158951 0.93539633 0.84688733 0.3894463  0.83676472]\n",
      " [0.97072263 0.15725045 0.17638765 0.36222316 0.64780394 0.31061473]\n",
      " [0.         0.         0.         0.         0.         0.        ]\n",
      " [0.         0.         0.         0.         0.         0.        ]\n",
      " [0.59718347 0.49508424 0.75765933 0.80514966 0.26482244 0.70163192]\n",
      " [0.7395716  0.24185488 0.61014455 0.27981759 0.53190738 0.96580942]\n",
      " [0.         0.         0.         0.         0.         0.        ]]\n"
     ]
    }
   ],
   "source": [
    "import numpy.random as npr\n",
    "\n",
    "rdmat = npr.rand(10, 6)\n",
    "rdmat[np.any(rdmat < 0.1, axis=1)] = 0\n",
    "\n",
    "print(rdmat)"
   ]
  },
  {
   "cell_type": "markdown",
   "metadata": {},
   "source": [
    "4\\. Use np.linspace to create an array of 100 numbers between 0 and 2π (inclusive).\n",
    "\n",
    "  * Extract every 10th element using slice notation\n",
    "  * Reverse the array using slice notation\n",
    "  * Extract elements where the absolute difference between the sine and cosine functions evaluated at that element is less than 0.1\n",
    "  * Make a plot showing the sin and cos functions and indicate where they are close"
   ]
  },
  {
   "cell_type": "code",
   "execution_count": 11,
   "metadata": {},
   "outputs": [
    {
     "name": "stdout",
     "output_type": "stream",
     "text": [
      "Every 10th element:\n",
      "[0.         0.63466518 1.26933037 1.90399555 2.53866073 3.17332591\n",
      " 3.8079911  4.44265628 5.07732146 5.71198664]\n",
      "\n",
      "Reversed:\n",
      "[6.28318531 6.21971879 6.15625227 6.09278575 6.02931923 5.96585272\n",
      " 5.9023862  5.83891968 5.77545316 5.71198664 5.64852012 5.58505361\n",
      " 5.52158709 5.45812057 5.39465405 5.33118753 5.26772102 5.2042545\n",
      " 5.14078798 5.07732146 5.01385494 4.95038842 4.88692191 4.82345539\n",
      " 4.75998887 4.69652235 4.63305583 4.56958931 4.5061228  4.44265628\n",
      " 4.37918976 4.31572324 4.25225672 4.1887902  4.12532369 4.06185717\n",
      " 3.99839065 3.93492413 3.87145761 3.8079911  3.74452458 3.68105806\n",
      " 3.61759154 3.55412502 3.4906585  3.42719199 3.36372547 3.30025895\n",
      " 3.23679243 3.17332591 3.10985939 3.04639288 2.98292636 2.91945984\n",
      " 2.85599332 2.7925268  2.72906028 2.66559377 2.60212725 2.53866073\n",
      " 2.47519421 2.41172769 2.34826118 2.28479466 2.22132814 2.15786162\n",
      " 2.0943951  2.03092858 1.96746207 1.90399555 1.84052903 1.77706251\n",
      " 1.71359599 1.65012947 1.58666296 1.52319644 1.45972992 1.3962634\n",
      " 1.33279688 1.26933037 1.20586385 1.14239733 1.07893081 1.01546429\n",
      " 0.95199777 0.88853126 0.82506474 0.76159822 0.6981317  0.63466518\n",
      " 0.57119866 0.50773215 0.44426563 0.38079911 0.31733259 0.25386607\n",
      " 0.19039955 0.12693304 0.06346652 0.        ]\n",
      "\n",
      "a_i in a s. t. abs(sin(a_i) - cos(a_i)) < 0.1:\n",
      "[0.76159822 0.82506474 3.87145761 3.93492413]\n",
      "\n"
     ]
    },
    {
     "data": {
      "text/plain": [
       "<matplotlib.legend.Legend at 0x7f1edc1fc2b0>"
      ]
     },
     "execution_count": 11,
     "metadata": {},
     "output_type": "execute_result"
    },
    {
     "data": {
      "image/png": "[encoded data removed]",
      "text/plain": [
       "<Figure size 640x480 with 1 Axes>"
      ]
     },
     "metadata": {},
     "output_type": "display_data"
    }
   ],
   "source": [
    "a = np.linspace(0, m.tau, 100)\n",
    "print(f\"Every 10th element:\\n{a[::10]}\\n\")\n",
    "print(f\"Reversed:\\n{a[::-1]}\\n\")\n",
    "a_close = a[abs(np.sin(a) - np.cos(a)) < 0.1]\n",
    "print(f\"a_i in a s. t. abs(sin(a_i) - cos(a_i)) < 0.1:\\n{a_close}\\n\")\n",
    "\n",
    "fig, ax = plt.subplots()\n",
    "ax.plot(a, np.sin(a), label=\"sin(x)\")\n",
    "ax.plot(a, np.cos(a), label=\"cos(x)\")\n",
    "ax.axvspan(a_close[0], a_close[1], alpha=0.5)\n",
    "ax.axvspan(a_close[2], a_close[3], alpha=0.5)\n",
    "ax.set_xlabel(\"x\")\n",
    "ax.set_ylabel(\"y\")\n",
    "ax.legend()"
   ]
  },
  {
   "cell_type": "markdown",
   "metadata": {},
   "source": [
    "5\\. Create a matrix that shows the 10 by 10 multiplication table.\n",
    "\n",
    " * Find the trace of the matrix\n",
    " * Extract the anti-diagonal (this should be ```array([10, 18, 24, 28, 30, 30, 28, 24, 18, 10])```)\n",
    " * Extract the diagonal offset by 1 upwards (this should be ```array([ 2,  6, 12, 20, 30, 42, 56, 72, 90])```)"
   ]
  },
  {
   "cell_type": "code",
   "execution_count": 28,
   "metadata": {},
   "outputs": [
    {
     "name": "stdout",
     "output_type": "stream",
     "text": [
      "Trace = 385\n",
      "Anti-diagonal = [10 18 24 28 30 30 28 24 18 10]\n",
      "Upper diagonal = [ 2  6 12 20 30 42 56 72 90]\n"
     ]
    }
   ],
   "source": [
    "mult = np.outer(range(1, 11), range(1, 11))\n",
    "print(f\"Trace = {np.trace(mult)}\")\n",
    "print(f\"Anti-diagonal = {np.diag(mult[::-1])}\")\n",
    "print(f\"Upper diagonal = {np.diag(mult, 1)}\")"
   ]
  },
  {
   "cell_type": "markdown",
   "metadata": {},
   "source": [
    "6\\. Use broadcasting to create a grid of distances\n",
    "\n",
    "Route 66 crosses the following cities in the US: Chicago, Springfield, Saint-Louis, Tulsa, Oklahoma City, Amarillo, Santa Fe, Albuquerque, Flagstaff, Los Angeles.\n",
    "The corresponding positions in miles are: 0, 198, 303, 736, 871, 1175, 1475, 1544, 1913, 2448\n",
    "\n",
    "  * Construct a 2D grid of distances among each city along Route 66\n",
    "  * Convert that in km (those savages...)"
   ]
  },
  {
   "cell_type": "code",
   "execution_count": 52,
   "metadata": {},
   "outputs": [
    {
     "name": "stdout",
     "output_type": "stream",
     "text": [
      "Grid of distances in miles:\n",
      "               Chicago  Springfield  Saint Louis  Tulsa  Oklahoma City  \\\n",
      "Chicago              0          319          488   1184           1402   \n",
      "Springfield        319            0          169    866           1083   \n",
      "Saint Louis        488          169            0    697            914   \n",
      "Tulsa             1184          866          697      0            217   \n",
      "Oklahoma City     1402         1083          914    217              0   \n",
      "Amarillo          1891         1572         1403    707            489   \n",
      "Santa Fe          2374         2055         1886   1189            972   \n",
      "Albuquerque       2485         2166         1997   1300           1083   \n",
      "Flagstaff         3079         2760         2591   1894           1677   \n",
      "Los Angeles       3940         3621         3452   2755           2538   \n",
      "\n",
      "               Amarillo  Santa Fe  Albuquerque  Flagstaff  Los Angeles  \n",
      "Chicago            1891      2374         2485       3079         3940  \n",
      "Springfield        1572      2055         2166       2760         3621  \n",
      "Saint Louis        1403      1886         1997       2591         3452  \n",
      "Tulsa               707      1189         1300       1894         2755  \n",
      "Oklahoma City       489       972         1083       1677         2538  \n",
      "Amarillo              0       483          594       1188         2049  \n",
      "Santa Fe            483         0          111        705         1566  \n",
      "Albuquerque         594       111            0        594         1455  \n",
      "Flagstaff          1188       705          594          0          861  \n",
      "Los Angeles        2049      1566         1455        861            0  \n",
      "\n",
      "Distance from Oklahoma City to Los Angeles = 2538 km\n"
     ]
    }
   ],
   "source": [
    "cities = [\"Chicago\", \"Springfield\", \"Saint Louis\", \"Tulsa\",\n",
    "          \"Oklahoma City\", \"Amarillo\", \"Santa Fe\", \"Albuquerque\",\n",
    "          \"Flagstaff\", \"Los Angeles\"]\n",
    "positions = np.array([0, 198, 303, 736, 871, 1175, 1475, 1544, 1913, 2448])\n",
    "distances = abs(positions[:, np.newaxis] - positions)\n",
    "distances = pd.DataFrame(np.round(distances * 1.609344), cities, cities,\n",
    "                         dtype=int)\n",
    "print(f\"Grid of distances in miles:\\n{distances}\\n\")\n",
    "\n",
    "c1 = \"Oklahoma City\"\n",
    "c2 = \"Los Angeles\"\n",
    "print(f\"Distance from {c1} to {c2} = {distances.loc[c1, c2]} km\")"
   ]
  },
  {
   "cell_type": "markdown",
   "metadata": {},
   "source": [
    "7\\. Prime numbers sieve: compute the prime numbers in the 0-N (N=99 to start with) range with a sieve (mask).\n",
    "  * Construct a shape (100, ) boolean array, the mask\n",
    "  * Identify the multiples of each number starting from 2 and set accordingly the corresponding mask element\n",
    "  * Apply the mask to obtain an array of ordered prime numbers\n",
    "  * Check the performances (timeit); how does it scale with N?\n",
    "  * Implement the optimization suggested in the [sieve of Eratosthenes](https://en.wikipedia.org/wiki/Sieve_of_Eratosthenes)"
   ]
  },
  {
   "cell_type": "code",
   "execution_count": 165,
   "metadata": {},
   "outputs": [],
   "source": [
    "def primesieve(N):\n",
    "    mask = np.ones(N, dtype=bool)\n",
    "    mask[[i * j - 1 for j in range(2, N)\n",
    "                    for i in range(2, N) if i * j <= N]] = False\n",
    "    return np.arange(1, N + 1)[mask]"
   ]
  },
  {
   "cell_type": "code",
   "execution_count": 179,
   "metadata": {},
   "outputs": [],
   "source": [
    "def eratosieve(N):\n",
    "    mask = np.ones(N, dtype=bool)\n",
    "    i = 2\n",
    "    while i**2 <= N:\n",
    "        if mask[i - 1] == True:\n",
    "            mask[range(i**2 - 1, N, i)] = False\n",
    "        i += 1\n",
    "    return np.arange(1, N + 1)[mask]"
   ]
  },
  {
   "cell_type": "code",
   "execution_count": 202,
   "metadata": {},
   "outputs": [
    {
     "data": {
      "text/plain": [
       "<matplotlib.legend.Legend at 0x7f1ed42d5f30>"
      ]
     },
     "execution_count": 202,
     "metadata": {},
     "output_type": "execute_result"
    },
    {
     "data": {
      "image/png": "[encoded data removed]",
      "text/plain": [
       "<Figure size 640x480 with 1 Axes>"
      ]
     },
     "metadata": {},
     "output_type": "display_data"
    }
   ],
   "source": [
    "import timeit\n",
    "\n",
    "n = range(250)\n",
    "t0 = timeit.default_timer()\n",
    "primesieve_times = [] \n",
    "for i in n:\n",
    "    primesieve(i)\n",
    "    primesieve_times.append(timeit.default_timer() - t0)\n",
    "\n",
    "t1 = timeit.default_timer()\n",
    "eratosieve_times = []\n",
    "for i in n:\n",
    "    eratosieve(i)\n",
    "    eratosieve_times.append(timeit.default_timer() - t1)\n",
    "\n",
    "n = np.asarray(n, dtype=float)\n",
    "fig, ax = plt.subplots()\n",
    "ax.plot(n, primesieve_times, label=\"Simple sieve\")\n",
    "ax.plot(n, eratosieve_times, label=\"Eratosthenes sieve\")\n",
    "ax.set_xlabel(\"N\")\n",
    "ax.set_ylabel(\"Execution time\")\n",
    "ax.legend()"
   ]
  },
  {
   "cell_type": "markdown",
   "metadata": {},
   "source": [
    "**N.B. the following exercises are meant to be solved only if you are familiar with the numpy random library. If not you can skip them (postponed for one of the next exercise sessions)**\n"
   ]
  },
  {
   "cell_type": "markdown",
   "metadata": {},
   "source": [
    "8\\. Diffusion using random walk\n",
    "\n",
    "Consider a simple random walk process: at each step in time, a walker jumps right or left (+1 or -1) with equal probability. The goal is to find the typical distance from the origin of a random walker after a given amount of time. \n",
    "To do that, let's simulate many walkers and create a 2D array with each walker as a row and the actual time evolution as columns\n",
    "\n",
    "  * Take 1000 walkers and let them walk for 200 steps\n",
    "  * Use randint to create a 2D array of size walkers x steps with values -1 or 1\n",
    "  * Build the actual walking distances for each walker (i.e. another 2D array \"summing on each raw\")\n",
    "  * Take the square of that 2D array (elementwise)\n",
    "  * Compute the mean of the squared distances at each step (i.e. the mean along the columns)\n",
    "  * Plot the average distances (sqrt(distance\\*\\*2)) as a function of time (step)\n",
    "  \n",
    "Did you get what you expected?"
   ]
  },
  {
   "cell_type": "markdown",
   "metadata": {},
   "source": [
    "9\\. Analyze a data file \n",
    "  * Download the population of hares, lynxes and carrots at the beginning of the last century.\n",
    "    ```python\n",
    "    ! wget https://www.dropbox.com/s/3vigxoqayo389uc/populations.txt\n",
    "    ```\n",
    "\n",
    "  * Check the content by looking within the file\n",
    "  * Load the data (use an appropriate numpy method) into a 2D array\n",
    "  * Create arrays out of the columns, the arrays being (in order): *year*, *hares*, *lynxes*, *carrots* \n",
    "  * Plot the 3 populations over the years\n",
    "  * Compute the main statistical properties of the dataset (mean, std, correlations, etc.)\n",
    "  * Which species has the highest population each year?\n",
    "\n",
    "Do you feel there is some evident correlation here? [Studies](https://www.enr.gov.nt.ca/en/services/lynx/lynx-snowshoe-hare-cycle) tend to believe so."
   ]
  }
 ],
 "metadata": {
  "kernelspec": {
   "display_name": "Python 3.10.6 ('LCP')",
   "language": "python",
   "name": "python3"
  },
  "language_info": {
   "codemirror_mode": {
    "name": "ipython",
    "version": 3
   },
   "file_extension": ".py",
   "mimetype": "text/x-python",
   "name": "python",
   "nbconvert_exporter": "python",
   "pygments_lexer": "ipython3",
   "version": "3.10.6"
  },
  "vscode": {
   "interpreter": {
    "hash": "fdbb663ad9ba1b792610492e9c14cc4502c8785e473cf31bd41558f2f35aac4e"
   }
  }
 },
 "nbformat": 4,
 "nbformat_minor": 2
}
